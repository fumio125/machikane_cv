{
  "cells": [
    {
      "attachments": {},
      "cell_type": "markdown",
      "metadata": {
        "colab_type": "text",
        "id": "view-in-github"
      },
      "source": [
        "<a href=\"https://colab.research.google.com/github/fumio125/meshroom_colab/blob/main/meshroom.ipynb\" target=\"_parent\"><img src=\"https://colab.research.google.com/assets/colab-badge.svg\" alt=\"Open In Colab\"/></a>"
      ]
    },
    {
      "attachments": {},
      "cell_type": "markdown",
      "metadata": {
        "id": "nV7XTqHVtmiq"
      },
      "source": [
        "# Meshroom on Google Colab\n",
        "\n",
        "参考：「他人のGPUで\"大規模\"フォトグラメトリしたい！！」\n",
        "https://qiita.com/kotauchisunsun/items/5777c94faabdef1523c9\n",
        "\n",
        "\n",
        "**注意：実行前に、GPUランタイムに接続していることを確認してください。**\n",
        "\n",
        "無料版Colabは、GPUランタイムの接続可能時間に制限があります。これを超えたら、`n`時間くらい待ってから再挑戦してください。`n`はサーバの込み具合により変わるらしいですが、一説によると12～24時間くらいらしいです。\n",
        "\n",
        "無料枠を超えないために、入力画像数を数十枚程度に抑えるのが良いでしょう（方法1-1を使う場合は除く）。"
      ]
    },
    {
      "attachments": {},
      "cell_type": "markdown",
      "metadata": {
        "id": "t9YUUWIqth5F"
      },
      "source": [
        "## 1. Google Drive を使う版\n",
        "1. Google Driveの「マイドライブ」直下に「meshroom」というフォルダを作る\n",
        "2. フォルダ「meshroom」の下に「images」というフォルダを作り、その中に入力画像を入れる\n",
        "3. 以下いずれかのセルを実行してしばし待つ（時間がかかりそうな場合はたまにアクセスする）\n",
        "4. meshroom/results以下に結果が出力される"
      ]
    },
    {
      "attachments": {},
      "cell_type": "markdown",
      "metadata": {
        "id": "2aoJYw2x-thG"
      },
      "source": [
        "### 1-1. Google Drive に数GB以上の余裕がある場合\n",
        "Google Colabの制約で途中でランタイムが落ちても、次のセルを起動すれば途中からやりなおせます"
      ]
    },
    {
      "cell_type": "code",
      "execution_count": null,
      "metadata": {
        "id": "rCnEiT8E621I"
      },
      "outputs": [],
      "source": [
        "from google.colab import drive\n",
        "drive.mount('/content/drive')\n",
        "\n",
        "!pwd\n",
        "!wget https://github.com/alicevision/Meshroom/releases/download/v2021.1.0/Meshroom-2021.1.0-linux-cuda10.tar.gz\n",
        "!mkdir \"./meshroom_exe\"\n",
        "!tar xf \"./Meshroom-2021.1.0-linux-cuda10.tar.gz\" -C \"./meshroom_exe\" --strip-components 1\n",
        "\n",
        "!mkdir \"drive/MyDrive/meshroom/result\"\n",
        "!mkdir \"drive/MyDrive/meshroom/log\"\n",
        "\n",
        "!./meshroom_exe/meshroom_batch \\\n",
        "    --input \"/content/drive/MyDrive/meshroom/images\" \\\n",
        "    --output \"/content/drive/MyDrive/meshroom/result\" \\\n",
        "    --cache \"/content/drive/MyDrive/meshroom/cache\" \\\n",
        "    --forceStatus \\\n",
        "    | tee \"/content/drive/MyDrive/meshroom/log/\"`date '+%Y%m%d%H%M%S'`\".log\"\n",
        "\n",
        "!rm -rf \"drive/MyDrive/meshroom/cache\""
      ]
    },
    {
      "attachments": {},
      "cell_type": "markdown",
      "metadata": {
        "id": "oZ6rfjW2-z7v"
      },
      "source": [
        "### 1-2. Google Drive の容量に余裕がない場合\n",
        "Google Colabの制約で途中でランタイムが落ちたら、最初からやり直しになります"
      ]
    },
    {
      "cell_type": "code",
      "execution_count": null,
      "metadata": {
        "id": "W2aoqnUutyvS"
      },
      "outputs": [],
      "source": [
        "from google.colab import drive\n",
        "drive.mount('/content/drive')\n",
        "\n",
        "!pwd\n",
        "!wget https://github.com/alicevision/Meshroom/releases/download/v2021.1.0/Meshroom-2021.1.0-linux-cuda10.tar.gz\n",
        "!mkdir \"./meshroom_exe\"\n",
        "!tar xf \"./Meshroom-2021.1.0-linux-cuda10.tar.gz\" -C \"./meshroom_exe\" --strip-components 1\n",
        "\n",
        "!mkdir \"drive/MyDrive/meshroom/result\"\n",
        "!mkdir \"drive/MyDrive/meshroom/log\"\n",
        "\n",
        "!./meshroom_exe/meshroom_batch \\\n",
        "    --input \"/content/drive/MyDrive/meshroom/images\" \\\n",
        "    --output \"/content/drive/MyDrive/meshroom/result\" \\\n",
        "    --forceStatus \\\n",
        "    | tee \"/content/drive/MyDrive/meshroom/log/\"`date '+%Y%m%d%H%M%S'`\".log\"\n"
      ]
    },
    {
      "attachments": {},
      "cell_type": "markdown",
      "metadata": {
        "id": "SiCy6lQotrPK"
      },
      "source": [
        "## 2. Google drive を使わない版\n",
        "1. 入力画像を、手元のPCの「images」フォルダ内に入れる\n",
        "2. 左にあるフォルダマークを押し、「images」フォルダを「ファイル」内にドラッグアンドドロップ\n",
        "3. 次のセルを実行してしばし待つ（時間がかかりそうな場合はたまにアクセスする\n",
        "4. 「results」以下に結果が出力されるので、右クリック→ダウンロード\n"
      ]
    },
    {
      "cell_type": "code",
      "execution_count": null,
      "metadata": {
        "id": "IrYDdr48q0Hf"
      },
      "outputs": [],
      "source": [
        "# Google Colabの制約で途中でランタイムが落ちたら、最初からやり直しになります\n",
        "# ランタイムとともに結果も消えるので、計算が終わったらすぐに結果をダウンロードしてください\n",
        "\n",
        "!pwd\n",
        "!wget https://github.com/alicevision/Meshroom/releases/download/v2021.1.0/Meshroom-2021.1.0-linux-cuda10.tar.gz\n",
        "!mkdir \"./meshroom_exe\"\n",
        "!tar xf \"./Meshroom-2021.1.0-linux-cuda10.tar.gz\" -C \"./meshroom_exe\" --strip-components 1\n",
        "\n",
        "!mkdir \"./result\"\n",
        "!mkdir \"./log\"\n",
        "\n",
        "!./meshroom_exe/meshroom_batch \\\n",
        "    --input \"./images\" \\\n",
        "    --output \"./result\" \\\n",
        "    --forceStatus \\\n",
        "    | tee \"./log/\"`date '+%Y%m%d%H%M%S'`\".log\"\n"
      ]
    },
    {
      "attachments": {},
      "cell_type": "markdown",
      "metadata": {
        "id": "XuyKCuavuAcK"
      },
      "source": [
        "## 復元が終わったら\n",
        "出来上がった.objファイルをMeshLabで読み込んで眺めましょう。\n",
        "\n",
        "https://www.meshlab.net/"
      ]
    },
    {
      "attachments": {},
      "cell_type": "markdown",
      "metadata": {
        "id": "4DBCMPwx_JmM"
      },
      "source": [
        "## Tips\n",
        "\n",
        "* 「たまにアクセスする」ためのバッチファイル\n",
        "\n",
        "  * https://qiita.com/kotauchisunsun/items/5777c94faabdef1523c9 のものを改変。\n",
        "  * Windows用、64 bit Google Chrome用です。拡張子\"bat\"で保存してください。\n",
        "  * 起動後、colabファイルのURL（```https://colab.research.google.com/drive/...```）を入力してください。\n",
        "\n",
        "\n",
        "```\n",
        "echo off\n",
        "set /P URL=\"Copy-and-paste Google Colab URL: \"\n",
        ":LOOP\n",
        "    \"C:\\Program Files\\Google\\Chrome\\Application\\chrome.exe\" %URL%\n",
        "    timeout 3600\n",
        "goto :LOOP\n",
        "\n",
        "```\n"
      ]
    },
    {
      "attachments": {},
      "cell_type": "markdown",
      "metadata": {
        "id": "51SwlGBS_NBF"
      },
      "source": [
        "\n",
        "## 既知の問題\n",
        "\n",
        "* 最新版（Meshroom 2023.2.0）はバッチ出力のテクスチャがデフォルトでexr形式になる。\n",
        "  * exrのテクスチャはMeshLabで読み込めないので、オプションを変えてpngか何かで出力したいものの、コマンドライン上でテクスチャ形式の指定方法がわからないので過去のバージョンを使っています。\n",
        "  * Blenderで眺めるならexrテクスチャでもOK\n"
      ]
    },
    {
      "cell_type": "code",
      "execution_count": null,
      "metadata": {
        "id": "CYLS_yboxOFB"
      },
      "outputs": [],
      "source": []
    }
  ],
  "metadata": {
    "accelerator": "GPU",
    "colab": {
      "authorship_tag": "ABX9TyN8DlYExHorh4gnumfbf8hQ",
      "gpuType": "T4",
      "include_colab_link": true,
      "mount_file_id": "19Qw12kAjU13ALB2RCZc0EG3xUdtEV6k1",
      "provenance": []
    },
    "kernelspec": {
      "display_name": "Python 3",
      "name": "python3"
    },
    "language_info": {
      "name": "python"
    }
  },
  "nbformat": 4,
  "nbformat_minor": 0
}
